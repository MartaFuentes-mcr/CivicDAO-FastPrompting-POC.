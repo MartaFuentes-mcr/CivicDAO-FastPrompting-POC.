{
 "cells": [
  {
   "cell_type": "markdown",
   "id": "8bc4cbab",
   "metadata": {},
   "source": [
    "1: Setup + carga de datos"
   ]
  },
  {
   "cell_type": "code",
   "execution_count": 1,
   "id": "3ccec582",
   "metadata": {},
   "outputs": [
    {
     "name": "stdout",
     "output_type": "stream",
     "text": [
      "✅ Propuestas cargadas:\n"
     ]
    },
    {
     "data": {
      "text/html": [
       "<div>\n",
       "<style scoped>\n",
       "    .dataframe tbody tr th:only-of-type {\n",
       "        vertical-align: middle;\n",
       "    }\n",
       "\n",
       "    .dataframe tbody tr th {\n",
       "        vertical-align: top;\n",
       "    }\n",
       "\n",
       "    .dataframe thead th {\n",
       "        text-align: right;\n",
       "    }\n",
       "</style>\n",
       "<table border=\"1\" class=\"dataframe\">\n",
       "  <thead>\n",
       "    <tr style=\"text-align: right;\">\n",
       "      <th></th>\n",
       "      <th>id</th>\n",
       "      <th>titulo</th>\n",
       "      <th>descripcion</th>\n",
       "    </tr>\n",
       "  </thead>\n",
       "  <tbody>\n",
       "    <tr>\n",
       "      <th>0</th>\n",
       "      <td>1</td>\n",
       "      <td>Redistribución de fondos comunitarios</td>\n",
       "      <td>Proponemos mover el 20% del fondo operativo a ...</td>\n",
       "    </tr>\n",
       "    <tr>\n",
       "      <th>1</th>\n",
       "      <td>2</td>\n",
       "      <td>Actualización del contrato de gobernanza</td>\n",
       "      <td>Se propone actualizar el smart contract de vot...</td>\n",
       "    </tr>\n",
       "    <tr>\n",
       "      <th>2</th>\n",
       "      <td>3</td>\n",
       "      <td>Taller de onboarding para nuevos miembros</td>\n",
       "      <td>Organizar un evento mensual para explicar cómo...</td>\n",
       "    </tr>\n",
       "    <tr>\n",
       "      <th>3</th>\n",
       "      <td>4</td>\n",
       "      <td>Integración con Snapshot para votaciones</td>\n",
       "      <td>Conectar nuestro foro con Snapshot para facili...</td>\n",
       "    </tr>\n",
       "  </tbody>\n",
       "</table>\n",
       "</div>"
      ],
      "text/plain": [
       "   id                                     titulo  \\\n",
       "0   1      Redistribución de fondos comunitarios   \n",
       "1   2   Actualización del contrato de gobernanza   \n",
       "2   3  Taller de onboarding para nuevos miembros   \n",
       "3   4   Integración con Snapshot para votaciones   \n",
       "\n",
       "                                         descripcion  \n",
       "0  Proponemos mover el 20% del fondo operativo a ...  \n",
       "1  Se propone actualizar el smart contract de vot...  \n",
       "2  Organizar un evento mensual para explicar cómo...  \n",
       "3  Conectar nuestro foro con Snapshot para facili...  "
      ]
     },
     "metadata": {},
     "output_type": "display_data"
    }
   ],
   "source": [
    "import os\n",
    "import pandas as pd\n",
    "import tiktoken\n",
    "from openai import OpenAI\n",
    "from dotenv import load_dotenv\n",
    "\n",
    "load_dotenv()\n",
    "USE_MOCK = os.getenv(\"USE_MOCK\", \"true\").lower() == \"true\"\n",
    "\n",
    "# Cargar propuestas desde CSV\n",
    "try:\n",
    "    df = pd.read_csv(\"../data/propuestas_civicdao.csv\")\n",
    "    print(\"✅ Propuestas cargadas:\")\n",
    "    display(df)\n",
    "except FileNotFoundError:\n",
    "    print(\"❌ Error: El archivo '../data/propuestas_civicdao.csv' no existe.\")\n",
    "    print(\"👉 Por favor, crea el archivo en la carpeta 'data/' con el formato correcto.\")\n",
    "    df = None  # Para evitar errores posteriores"
   ]
  },
  {
   "cell_type": "markdown",
   "id": "adc67005",
   "metadata": {},
   "source": [
    " *pruebas ( tiktoken)"
   ]
  },
  {
   "cell_type": "code",
   "execution_count": 2,
   "id": "46779a34",
   "metadata": {},
   "outputs": [
    {
     "name": "stdout",
     "output_type": "stream",
     "text": [
      "✅ Tokens: 4\n"
     ]
    }
   ],
   "source": [
    "import tiktoken\n",
    "\n",
    "encoding = tiktoken.encoding_for_model(\"gpt-4o-mini\")\n",
    "tokens = encoding.encode(\"Hola desde Windows!\")\n",
    "print(f\"✅ Tokens: {len(tokens)}\")"
   ]
  },
  {
   "cell_type": "markdown",
   "id": "4e359b3a",
   "metadata": {},
   "source": [
    "2: Función para contar tokens"
   ]
  },
  {
   "cell_type": "code",
   "execution_count": 3,
   "id": "f40113c2",
   "metadata": {},
   "outputs": [],
   "source": [
    "def count_tokens(text: str, model: str = \"gpt-4o-mini\") -> int:\n",
    "    encoding = tiktoken.encoding_for_model(model)\n",
    "    return len(encoding.encode(text))"
   ]
  },
  {
   "cell_type": "markdown",
   "id": "8f9f5394",
   "metadata": {},
   "source": [
    "3: Prompt SIMPLE "
   ]
  },
  {
   "cell_type": "code",
   "execution_count": 4,
   "id": "ce735297",
   "metadata": {},
   "outputs": [
    {
     "name": "stdout",
     "output_type": "stream",
     "text": [
      "Prompt simple:\n",
      " Clasifica esta propuesta DAO en una de estas categorías: GOV, FIN, TEC, COM. Solo responde con la categoría. Propuesta: Proponemos mover el 20% del fondo operativo a iniciativas de inclusión digital en barrios marginados. Presupuesto: 15k USDC. Duración: 6 meses.\n",
      "Tokens: 65\n"
     ]
    }
   ],
   "source": [
    "# === DEFINIR FUNCIÓN PARA CONTAR TOKENS ===\n",
    "import tiktoken\n",
    "\n",
    "def count_tokens(text: str, model: str = \"gpt-4o-mini\") -> int:\n",
    "    encoding = tiktoken.encoding_for_model(model)\n",
    "    return len(encoding.encode(text))\n",
    "\n",
    "# === GENERAR PROMPT SIMPLE ===\n",
    "def simple_prompt(proposal: str) -> str:\n",
    "    return f\"Clasifica esta propuesta DAO en una de estas categorías: GOV, FIN, TEC, COM. Solo responde con la categoría. Propuesta: {proposal}\"\n",
    "\n",
    "# Usar la primera propuesta como ejemplo\n",
    "prop = df.iloc[0][\"descripcion\"]\n",
    "prompt_simple = simple_prompt(prop)\n",
    "\n",
    "print(\"Prompt simple:\\n\", prompt_simple)\n",
    "print(\"Tokens:\", count_tokens(prompt_simple))\n"
   ]
  },
  {
   "cell_type": "markdown",
   "id": "1f5f0050",
   "metadata": {},
   "source": [
    "4: Prompt ESTRUCTURADO (con formato JSON)"
   ]
  },
  {
   "cell_type": "code",
   "execution_count": 5,
   "id": "ebb2ef9e",
   "metadata": {},
   "outputs": [
    {
     "name": "stdout",
     "output_type": "stream",
     "text": [
      "Prompt estructurado:\n",
      " Clasifica la siguiente propuesta de DAO.\n",
      "Categorías: GOV (gobernanza), FIN (finanzas), TEC (tecnología), COM (comunidad).\n",
      "Responde SOLO en formato JSON: {\"categoria\": \"XXX\", \"confianza\": 0.XX}\n",
      "\n",
      "Propuesta: Proponemos mover el 20% del fondo operativo a iniciativas de inclusión digital en barrios marginados. Presupuesto: 15k USDC. Duración: 6 meses.\n",
      "Tokens: 96\n"
     ]
    }
   ],
   "source": [
    "def structured_prompt(proposal: str) -> str:\n",
    "    return f\"\"\"\n",
    "Clasifica la siguiente propuesta de DAO.\n",
    "Categorías: GOV (gobernanza), FIN (finanzas), TEC (tecnología), COM (comunidad).\n",
    "Responde SOLO en formato JSON: {{\"categoria\": \"XXX\", \"confianza\": 0.XX}}\n",
    "\n",
    "Propuesta: {proposal}\n",
    "\"\"\".strip()\n",
    "\n",
    "prompt_struct = structured_prompt(prop)\n",
    "print(\"Prompt estructurado:\\n\", prompt_struct)\n",
    "print(\"Tokens:\", count_tokens(prompt_struct))"
   ]
  },
  {
   "cell_type": "markdown",
   "id": "bd0380e9",
   "metadata": {},
   "source": [
    "5: Prompt FAST (comprimido + batching)"
   ]
  },
  {
   "cell_type": "code",
   "execution_count": 6,
   "id": "1202579e",
   "metadata": {},
   "outputs": [
    {
     "name": "stdout",
     "output_type": "stream",
     "text": [
      "📌 Prompt para imagen (cópialo en Bing Image Creator):\n",
      "\n",
      "Infographic for civic decision-making. Show: \"Impacto de la propuesta\" vs. \"Situación actual\". \n",
      "Use simple flat design, civic colors (blue, green, white), clear icons (people, laptop, calendar, survey form). \n",
      "No photorealistic, no complex backgrounds. High contrast, minimal text. Style: accessible, suitable for community forum.\n",
      "\n",
      "Resumen de la propuesta: Se propone usar 5,000 USDC del fondo comunitario para realizar 3 talleres de alfabetización digital en el barrio San José, en colaboración con la bibl...\n"
     ]
    }
   ],
   "source": [
    "# === DEFINIR RESUMENES ===\n",
    "# Si estás en modo MOCK, usa este resumen simulado\n",
    "mock_summary = \"\"\"\n",
    "Se propone usar 5,000 USDC del fondo comunitario para realizar 3 talleres de alfabetización digital en el barrio San José, en colaboración con la biblioteca local. Beneficia directamente a vecinos sin acceso a formación digital, especialmente adultos mayores y jóvenes. La iniciativa dura 2 meses y su éxito se medirá por la asistencia y satisfacción de los participantes. Riesgo principal: baja participación si no hay difusión adecuada en la comunidad. Requiere voto urgente porque implica el uso de fondos colectivos y debe ejecutarse antes del próximo trimestre.\n",
    "\"\"\".strip()\n",
    "\n",
    "# Ejemplo: summary = \"Resumen generado por la API...\"\n",
    "\n",
    "# === GENERAR PROMPT PARA IMAGEN ===\n",
    "def build_image_prompt(summary_text: str) -> str:\n",
    "    return f\"\"\"\n",
    "Infographic for civic decision-making. Show: \"Impacto de la propuesta\" vs. \"Situación actual\". \n",
    "Use simple flat design, civic colors (blue, green, white), clear icons (people, laptop, calendar, survey form). \n",
    "No photorealistic, no complex backgrounds. High contrast, minimal text. Style: accessible, suitable for community forum.\n",
    "\n",
    "Resumen de la propuesta: {summary_text[:150]}...\n",
    "\"\"\".strip()\n",
    "\n",
    "# Usar el resumen correcto según el modo\n",
    "summary_to_use = mock_summary if USE_MOCK else summary\n",
    "\n",
    "image_prompt = build_image_prompt(summary_to_use)\n",
    "\n",
    "print(\"📌 Prompt para imagen (cópialo en Bing Image Creator):\\n\")\n",
    "print(image_prompt)\n",
    "\n",
    "\n",
    "try:\n",
    "    summary_to_use = summary  # Si está definido\n",
    "except NameError:\n",
    "    summary_to_use = mock_summary  # Fallback si no está definido"
   ]
  },
  {
   "cell_type": "markdown",
   "id": "971099a8",
   "metadata": {},
   "source": [
    "6: Generar resumen (texto-texto)"
   ]
  },
  {
   "cell_type": "code",
   "execution_count": null,
   "id": "a472f5ae",
   "metadata": {},
   "outputs": [],
   "source": [
    "def summary_prompt(proposal: str) -> str:\n",
    "    return f\"\"\"\n",
    "Resume en 1 línea para votación rápida: {proposal}\n",
    "\"\"\"\n",
    "\n",
    "summary_p = summary_prompt(prop)\n",
    "print(\"Prompt para resumen:\\n\", summary_p)"
   ]
  },
  {
   "cell_type": "markdown",
   "id": "17526f10",
   "metadata": {},
   "source": [
    " 7: Simulación de resultados (modo MOCK)"
   ]
  },
  {
   "cell_type": "code",
   "execution_count": 7,
   "id": "220ab75a",
   "metadata": {},
   "outputs": [
    {
     "name": "stdout",
     "output_type": "stream",
     "text": [
      "\n",
      "--- RESULTADOS (MOCK) ---\n",
      "Clasificación simple: FIN\n",
      "Clasificación estructurada: {{'categoria': 'FIN', 'confianza': 0.95}}\n",
      "Clasificación FAST (batch): FIN\n",
      "TEC\n",
      "Resumen: Redistribución de 15k USDC a iniciativas de inclusión digital durante 6 meses.\n",
      "\n",
      "📌 Prompt para imagen (Bing Image Creator):\n",
      "Infographic: \"Propuesta FIN: 15k USDC → Inclusión Digital\". Icons: money bag, people, laptop. Flat design, civic colors, high contrast.\n"
     ]
    }
   ],
   "source": [
    "if USE_MOCK:\n",
    "    print(\"\\n--- RESULTADOS (MOCK) ---\")\n",
    "    print(\"Clasificación simple: FIN\")\n",
    "    print(\"Clasificación estructurada: {{'categoria': 'FIN', 'confianza': 0.95}}\")\n",
    "    print(\"Clasificación FAST (batch): FIN\\nTEC\")\n",
    "    print(\"Resumen: Redistribución de 15k USDC a iniciativas de inclusión digital durante 6 meses.\")\n",
    "    \n",
    "    # Prompt para imagen (texto-imagen)\n",
    "    print(\"\\n📌 Prompt para imagen (Bing Image Creator):\")\n",
    "    print('Infographic: \"Propuesta FIN: 15k USDC → Inclusión Digital\". Icons: money bag, people, laptop. Flat design, civic colors, high contrast.')"
   ]
  },
  {
   "cell_type": "markdown",
   "id": "d07c1900",
   "metadata": {},
   "source": [
    " 8: Análisis de costos (markdown)"
   ]
  },
  {
   "cell_type": "markdown",
   "id": "4eb2c577",
   "metadata": {},
   "source": [
    "## 💰 Análisis de costos estimados (por 100 propuestas)\n",
    "\n",
    "| Técnica                 | Llamadas | Tokens promedio | Tokens totales | Costo estimado (GPT-4o-mini) |\n",
    "|-------------------------|----------|------------------|----------------|-------------------------------|\n",
    "| Prompt simple           | 100      | 80               | 8,000          | ~$0.012                       |\n",
    "| Prompt estructurado     | 100      | 150              | 15,000         | ~$0.0225                      |\n",
    "| **Prompt FAST (batch 10)** | **10**   | **600**          | **6,000**      | **~$0.009** ✅                |\n",
    "\n",
    "> **Conclusión**: El batching con prompts comprimidos reduce costos y llamadas, ideal para CivicDAO a escala."
   ]
  }
 ],
 "metadata": {
  "kernelspec": {
   "display_name": ".venv",
   "language": "python",
   "name": "python3"
  },
  "language_info": {
   "codemirror_mode": {
    "name": "ipython",
    "version": 3
   },
   "file_extension": ".py",
   "mimetype": "text/x-python",
   "name": "python",
   "nbconvert_exporter": "python",
   "pygments_lexer": "ipython3",
   "version": "3.11.9"
  }
 },
 "nbformat": 4,
 "nbformat_minor": 5
}
